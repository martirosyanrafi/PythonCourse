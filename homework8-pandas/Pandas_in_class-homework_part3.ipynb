{
 "cells": [
  {
   "cell_type": "markdown",
   "metadata": {},
   "source": [
    "### Import the library pandas as pd\n",
    "\n",
    "#### Import արեք pandas գրադարանը pd  անունով"
   ]
  },
  {
   "cell_type": "code",
   "execution_count": 118,
   "metadata": {},
   "outputs": [],
   "source": [
    "import numpy as np\n",
    "import pandas as pd\n",
    "import datetime"
   ]
  },
  {
   "cell_type": "markdown",
   "metadata": {},
   "source": [
    "### Import the dataset gender.txt, assign to a variable gender\n",
    "\n",
    "### Import արեք gender.txt dataset-ը, վերագրեք այն gender փոփոխականին"
   ]
  },
  {
   "cell_type": "code",
   "execution_count": 119,
   "metadata": {},
   "outputs": [],
   "source": [
    "gender = pd.read_csv ('gender.txt', sep = '|')"
   ]
  },
  {
   "cell_type": "markdown",
   "metadata": {},
   "source": [
    "### Check the datatypes in the dataframe\n",
    "\n",
    "### Ստուգեք աղյուսակի սյուների տիպերը"
   ]
  },
  {
   "cell_type": "code",
   "execution_count": 120,
   "metadata": {},
   "outputs": [
    {
     "data": {
      "text/plain": [
       "user_id        int64\n",
       "age            int64\n",
       "gender        object\n",
       "occupation    object\n",
       "zip_code      object\n",
       "dtype: object"
      ]
     },
     "execution_count": 120,
     "metadata": {},
     "output_type": "execute_result"
    }
   ],
   "source": [
    "gender.dtypes"
   ]
  },
  {
   "cell_type": "markdown",
   "metadata": {},
   "source": [
    "### Convert the datatype of the column 'occupation' into categorical\n",
    "\n",
    "### Վերածեք 'occupation' սյունը categorical տիպի"
   ]
  },
  {
   "cell_type": "code",
   "execution_count": 121,
   "metadata": {},
   "outputs": [],
   "source": [
    "gender.occupation = gender.occupation.astype('category')"
   ]
  },
  {
   "cell_type": "markdown",
   "metadata": {},
   "source": [
    "### Replace the values in the column 'gender' with Male and Female accordingly. Do this with 2 methods: using apply and map.\n",
    "\n",
    "### Փոխարինեք  'gender' սյան արժեքները Male և Female արժեքներով, արեք սա երկու տարբերակով՝ գործածելով apply և map ֆունկցիաները"
   ]
  },
  {
   "cell_type": "code",
   "execution_count": 122,
   "metadata": {},
   "outputs": [],
   "source": [
    "# 1\n",
    "gender.gender = gender.gender.apply(lambda g: 'Male' if g == 'M' else 'Female')\n",
    "\n",
    "# 2\n",
    "# gender.gender = gender.gender.map({'M': 'Male', 'F': 'Female'})"
   ]
  },
  {
   "cell_type": "markdown",
   "metadata": {},
   "source": [
    "### Calculate the mean, median and std of age values for each occupation\n",
    "\n",
    "### Հաշվեք age սյան mean, median և std արժեքները occupation սյան ամեն արժեքի համար"
   ]
  },
  {
   "cell_type": "code",
   "execution_count": 123,
   "metadata": {},
   "outputs": [
    {
     "name": "stdout",
     "output_type": "stream",
     "text": [
      "34.05196182396607\n",
      "31.0\n",
      "12.18627315093722\n"
     ]
    }
   ],
   "source": [
    "print(np.mean(gender.age))\n",
    "print(np.median(gender.age))\n",
    "print(np.std(gender.age))"
   ]
  },
  {
   "cell_type": "markdown",
   "metadata": {},
   "source": [
    "### Create a new column 'birth_year' and get the birth year of each individual using the values from the column 'age'\n",
    "\n",
    "### Ստեղծեք 'birth_year' անունով նոր սյուն, որում կպահեք ամեն մարդու ծննդյան տարին, որը կստանաք օգտագործելով 'birth_year' սյան արժեքները"
   ]
  },
  {
   "cell_type": "code",
   "execution_count": 124,
   "metadata": {},
   "outputs": [],
   "source": [
    "gender['birth_year'] = 2021 - gender.age"
   ]
  },
  {
   "cell_type": "markdown",
   "metadata": {},
   "source": [
    "### Create a new column 'birth_date' using the column 'birth_year' and current month and day values\"\n",
    "\n",
    "### Ստեղծեք 'birth_date' անունով նոր սյուն, որի արժեքները կստանաք գործածելով 'birth_year' սյան արժեքները ինչպես նաև այս պահի ամիսն ու օրը։ "
   ]
  },
  {
   "cell_type": "code",
   "execution_count": 125,
   "metadata": {},
   "outputs": [],
   "source": [
    "now = datetime.datetime.now()\n",
    "gender['birth_date'] = gender.birth_year.map(lambda year: datetime.datetime(year, now.month, now.day))\n",
    "gender.birth_year = pd.to_datetime(gender.birth_year, format=\"%Y\")"
   ]
  },
  {
   "cell_type": "markdown",
   "metadata": {},
   "source": [
    "### Make sure the datatype of the columns 'birth_year' and 'birth_date' is datetime\n",
    "\n",
    "### Վստահ եղեք, որ 'birth_year' և 'birth_date' սյուները datetime տիպի են"
   ]
  },
  {
   "cell_type": "code",
   "execution_count": 126,
   "metadata": {},
   "outputs": [
    {
     "data": {
      "text/plain": [
       "user_id                int64\n",
       "age                    int64\n",
       "gender                object\n",
       "occupation          category\n",
       "zip_code              object\n",
       "birth_year    datetime64[ns]\n",
       "birth_date    datetime64[ns]\n",
       "dtype: object"
      ]
     },
     "execution_count": 126,
     "metadata": {},
     "output_type": "execute_result"
    }
   ],
   "source": [
    "gender.dtypes"
   ]
  },
  {
   "cell_type": "markdown",
   "metadata": {},
   "source": [
    "### Change the values in the column user_id to have the values of type string of the same length (use the method of your choice). As an example, if we have values 0, 1 and 100, we could have values '000', '001' and '100' as a result.\n",
    "\n",
    "### Փոխեք user_id սյան արժեքները նույն երկարություն ունեցող string տիպի արժեքներով՝ գործածելով Ձեր ցանկացած մեթոդը։ Որպես օրինակ, եթե ունեք 0, 1 և 100 աևժեքներ, Ձեր արդյունքը կարող է լինել '000', '001' և'100'"
   ]
  },
  {
   "cell_type": "code",
   "execution_count": 127,
   "metadata": {},
   "outputs": [],
   "source": [
    "gender.user_id = gender.astype(str).user_id.str.zfill(4)"
   ]
  },
  {
   "cell_type": "code",
   "execution_count": 128,
   "metadata": {},
   "outputs": [
    {
     "data": {
      "text/html": [
       "<div>\n",
       "<style scoped>\n",
       "    .dataframe tbody tr th:only-of-type {\n",
       "        vertical-align: middle;\n",
       "    }\n",
       "\n",
       "    .dataframe tbody tr th {\n",
       "        vertical-align: top;\n",
       "    }\n",
       "\n",
       "    .dataframe thead th {\n",
       "        text-align: right;\n",
       "    }\n",
       "</style>\n",
       "<table border=\"1\" class=\"dataframe\">\n",
       "  <thead>\n",
       "    <tr style=\"text-align: right;\">\n",
       "      <th></th>\n",
       "      <th>user_id</th>\n",
       "      <th>age</th>\n",
       "      <th>gender</th>\n",
       "      <th>occupation</th>\n",
       "      <th>zip_code</th>\n",
       "      <th>birth_year</th>\n",
       "      <th>birth_date</th>\n",
       "    </tr>\n",
       "  </thead>\n",
       "  <tbody>\n",
       "    <tr>\n",
       "      <th>0</th>\n",
       "      <td>0001</td>\n",
       "      <td>24</td>\n",
       "      <td>Male</td>\n",
       "      <td>technician</td>\n",
       "      <td>85711</td>\n",
       "      <td>1997-01-01</td>\n",
       "      <td>1997-05-02</td>\n",
       "    </tr>\n",
       "    <tr>\n",
       "      <th>1</th>\n",
       "      <td>0002</td>\n",
       "      <td>53</td>\n",
       "      <td>Female</td>\n",
       "      <td>other</td>\n",
       "      <td>94043</td>\n",
       "      <td>1968-01-01</td>\n",
       "      <td>1968-05-02</td>\n",
       "    </tr>\n",
       "    <tr>\n",
       "      <th>2</th>\n",
       "      <td>0003</td>\n",
       "      <td>23</td>\n",
       "      <td>Male</td>\n",
       "      <td>writer</td>\n",
       "      <td>32067</td>\n",
       "      <td>1998-01-01</td>\n",
       "      <td>1998-05-02</td>\n",
       "    </tr>\n",
       "    <tr>\n",
       "      <th>3</th>\n",
       "      <td>0004</td>\n",
       "      <td>24</td>\n",
       "      <td>Male</td>\n",
       "      <td>technician</td>\n",
       "      <td>43537</td>\n",
       "      <td>1997-01-01</td>\n",
       "      <td>1997-05-02</td>\n",
       "    </tr>\n",
       "    <tr>\n",
       "      <th>4</th>\n",
       "      <td>0005</td>\n",
       "      <td>33</td>\n",
       "      <td>Female</td>\n",
       "      <td>other</td>\n",
       "      <td>15213</td>\n",
       "      <td>1988-01-01</td>\n",
       "      <td>1988-05-02</td>\n",
       "    </tr>\n",
       "    <tr>\n",
       "      <th>...</th>\n",
       "      <td>...</td>\n",
       "      <td>...</td>\n",
       "      <td>...</td>\n",
       "      <td>...</td>\n",
       "      <td>...</td>\n",
       "      <td>...</td>\n",
       "      <td>...</td>\n",
       "    </tr>\n",
       "    <tr>\n",
       "      <th>938</th>\n",
       "      <td>0939</td>\n",
       "      <td>26</td>\n",
       "      <td>Female</td>\n",
       "      <td>student</td>\n",
       "      <td>33319</td>\n",
       "      <td>1995-01-01</td>\n",
       "      <td>1995-05-02</td>\n",
       "    </tr>\n",
       "    <tr>\n",
       "      <th>939</th>\n",
       "      <td>0940</td>\n",
       "      <td>32</td>\n",
       "      <td>Male</td>\n",
       "      <td>administrator</td>\n",
       "      <td>02215</td>\n",
       "      <td>1989-01-01</td>\n",
       "      <td>1989-05-02</td>\n",
       "    </tr>\n",
       "    <tr>\n",
       "      <th>940</th>\n",
       "      <td>0941</td>\n",
       "      <td>20</td>\n",
       "      <td>Male</td>\n",
       "      <td>student</td>\n",
       "      <td>97229</td>\n",
       "      <td>2001-01-01</td>\n",
       "      <td>2001-05-02</td>\n",
       "    </tr>\n",
       "    <tr>\n",
       "      <th>941</th>\n",
       "      <td>0942</td>\n",
       "      <td>48</td>\n",
       "      <td>Female</td>\n",
       "      <td>librarian</td>\n",
       "      <td>78209</td>\n",
       "      <td>1973-01-01</td>\n",
       "      <td>1973-05-02</td>\n",
       "    </tr>\n",
       "    <tr>\n",
       "      <th>942</th>\n",
       "      <td>0943</td>\n",
       "      <td>22</td>\n",
       "      <td>Male</td>\n",
       "      <td>student</td>\n",
       "      <td>77841</td>\n",
       "      <td>1999-01-01</td>\n",
       "      <td>1999-05-02</td>\n",
       "    </tr>\n",
       "  </tbody>\n",
       "</table>\n",
       "<p>943 rows × 7 columns</p>\n",
       "</div>"
      ],
      "text/plain": [
       "    user_id  age  gender     occupation zip_code birth_year birth_date\n",
       "0      0001   24    Male     technician    85711 1997-01-01 1997-05-02\n",
       "1      0002   53  Female          other    94043 1968-01-01 1968-05-02\n",
       "2      0003   23    Male         writer    32067 1998-01-01 1998-05-02\n",
       "3      0004   24    Male     technician    43537 1997-01-01 1997-05-02\n",
       "4      0005   33  Female          other    15213 1988-01-01 1988-05-02\n",
       "..      ...  ...     ...            ...      ...        ...        ...\n",
       "938    0939   26  Female        student    33319 1995-01-01 1995-05-02\n",
       "939    0940   32    Male  administrator    02215 1989-01-01 1989-05-02\n",
       "940    0941   20    Male        student    97229 2001-01-01 2001-05-02\n",
       "941    0942   48  Female      librarian    78209 1973-01-01 1973-05-02\n",
       "942    0943   22    Male        student    77841 1999-01-01 1999-05-02\n",
       "\n",
       "[943 rows x 7 columns]"
      ]
     },
     "execution_count": 128,
     "metadata": {},
     "output_type": "execute_result"
    }
   ],
   "source": [
    "gender"
   ]
  },
  {
   "cell_type": "code",
   "execution_count": null,
   "metadata": {},
   "outputs": [],
   "source": []
  }
 ],
 "metadata": {
  "colab": {
   "name": "In-class.ipynb",
   "provenance": [],
   "version": "0.3.2"
  },
  "kernelspec": {
   "display_name": "Python 3",
   "language": "python",
   "name": "python3"
  },
  "language_info": {
   "codemirror_mode": {
    "name": "ipython",
    "version": 3
   },
   "file_extension": ".py",
   "mimetype": "text/x-python",
   "name": "python",
   "nbconvert_exporter": "python",
   "pygments_lexer": "ipython3",
   "version": "3.8.5"
  }
 },
 "nbformat": 4,
 "nbformat_minor": 1
}
