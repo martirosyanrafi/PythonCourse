{
 "cells": [
  {
   "cell_type": "code",
   "execution_count": 1,
   "id": "f3150dfe",
   "metadata": {},
   "outputs": [],
   "source": [
    "from __future__ import annotations\n",
    "from abc import ABC, abstractmethod"
   ]
  },
  {
   "cell_type": "code",
   "execution_count": 2,
   "id": "95bb895c",
   "metadata": {},
   "outputs": [],
   "source": [
    "class Product(ABC):\n",
    "    \n",
    "    @abstractmethod\n",
    "    def make(self):\n",
    "        pass"
   ]
  },
  {
   "cell_type": "code",
   "execution_count": 3,
   "id": "8c51f9d7",
   "metadata": {},
   "outputs": [],
   "source": [
    "class Cake(Product):\n",
    "\n",
    "    def make(self):\n",
    "        print(\"making cake\")  "
   ]
  },
  {
   "cell_type": "code",
   "execution_count": 4,
   "id": "66dd6b79",
   "metadata": {},
   "outputs": [],
   "source": [
    "class CakeDecorator(Cake):\n",
    "    \n",
    "    def __init__(self, cake):\n",
    "        self.cake = cake\n",
    "        \n",
    "    def make(self):\n",
    "        self.cake.make()"
   ]
  },
  {
   "cell_type": "code",
   "execution_count": 5,
   "id": "6ba08a78",
   "metadata": {},
   "outputs": [],
   "source": [
    "class Dough(CakeDecorator):\n",
    "    \n",
    "    def make(self):\n",
    "        self.cake.make()\n",
    "        print(\"adding dough\")\n",
    "        \n",
    "class Icing(CakeDecorator):\n",
    "    \n",
    "    def make(self):\n",
    "        self.cake.make()\n",
    "        print(\"adding icing\")\n",
    "        \n",
    "class Ingredient(CakeDecorator):\n",
    "    \n",
    "    def make(self):\n",
    "        self.cake.make()\n",
    "        print(\"adding ingredient\")    \n",
    "        \n",
    "class Decoration(CakeDecorator):\n",
    "    \n",
    "    def make(self):\n",
    "        self.cake.make()\n",
    "        print(\"adding decoration\")"
   ]
  },
  {
   "cell_type": "code",
   "execution_count": 6,
   "id": "d2338ce2",
   "metadata": {},
   "outputs": [],
   "source": [
    "class BeverageBridge(ABC):\n",
    "    \n",
    "    @abstractmethod\n",
    "    def get_type(self):\n",
    "        pass\n",
    "    \n",
    "class HotBeverageImplementation(BeverageBridge):\n",
    "    \n",
    "    def get_type(self):\n",
    "        return \"hot\"\n",
    "        \n",
    "class ColdBeverageImplementation(BeverageBridge):\n",
    "    \n",
    "    def get_type(self):\n",
    "        return \"cold\""
   ]
  },
  {
   "cell_type": "code",
   "execution_count": 7,
   "id": "b8d7449c",
   "metadata": {},
   "outputs": [],
   "source": [
    "class Beverage(Product):\n",
    "    \n",
    "    def __init__(self, implementation):\n",
    "        self.implementation = implementation\n",
    "        \n",
    "    def make(self):\n",
    "        print(\"making \" + self.implementation.get_type() + \" drink\")"
   ]
  },
  {
   "cell_type": "code",
   "execution_count": 8,
   "id": "8ad72e84",
   "metadata": {},
   "outputs": [],
   "source": [
    "class Order:\n",
    "    \n",
    "    def __init__(self, products):\n",
    "        self.products = products"
   ]
  },
  {
   "cell_type": "code",
   "execution_count": 9,
   "id": "fa6cf4ef",
   "metadata": {},
   "outputs": [],
   "source": [
    "class Person:\n",
    "    pass\n",
    "\n",
    "class Employee(Person):\n",
    "    pass\n",
    "\n",
    "class Customer(Person):\n",
    "    pass\n",
    "\n",
    "class Waitress(Employee):\n",
    "    \n",
    "    def take_order(self, customer, order):\n",
    "        print(\"taking order\")\n",
    "        \n",
    "    def deliver(self, order):\n",
    "        print(\"delivering order\")\n",
    "        \n",
    "class Cook(Employee):\n",
    "    \n",
    "    def prepare(self, order):\n",
    "        print(\"preparing order\")\n",
    "        for product in order.products:\n",
    "            product.make()"
   ]
  },
  {
   "cell_type": "code",
   "execution_count": 10,
   "id": "245b0356",
   "metadata": {},
   "outputs": [],
   "source": [
    "class CafeFacade(ABC):\n",
    "    \n",
    "    @abstractmethod\n",
    "    def take_order(self, waitress, customer, order):\n",
    "        pass\n",
    "    \n",
    "    @abstractmethod\n",
    "    def prepare(self, cook):\n",
    "        pass\n",
    "    \n",
    "    @abstractmethod\n",
    "    def deliver(self, waitress, order):\n",
    "        pass"
   ]
  },
  {
   "cell_type": "code",
   "execution_count": 11,
   "id": "ef309d5a",
   "metadata": {},
   "outputs": [],
   "source": [
    "class MyCafe(CafeFacade):\n",
    "    \n",
    "    orders = []\n",
    "    \n",
    "    def take_order(self, waitress, customer, order):\n",
    "        self.orders.append(order)\n",
    "    \n",
    "    def prepare(self, cook):\n",
    "        if len(self.orders) > 0:\n",
    "            cook.prepare(self.orders.pop(0))     \n",
    "    \n",
    "    def deliver(self, waitress, order):\n",
    "        waitress.deliver(order)"
   ]
  },
  {
   "cell_type": "code",
   "execution_count": 12,
   "id": "e3883120",
   "metadata": {},
   "outputs": [
    {
     "name": "stdout",
     "output_type": "stream",
     "text": [
      "preparing order\n",
      "making cake\n",
      "adding ingredient\n",
      "adding decoration\n",
      "adding dough\n",
      "making hot drink\n",
      "delivering order\n"
     ]
    }
   ],
   "source": [
    "cafe = MyCafe()\n",
    "customer = Customer()\n",
    "waitress = Waitress()\n",
    "cook = Cook()\n",
    "\n",
    "cake = Dough(Decoration(Ingredient(Cake())))\n",
    "beverage = Beverage(HotBeverageImplementation())\n",
    "order = Order([cake, beverage])\n",
    "\n",
    "cafe.take_order(waitress, customer, order)\n",
    "cafe.prepare(cook)\n",
    "cafe.deliver(waitress, order)"
   ]
  }
 ],
 "metadata": {
  "kernelspec": {
   "display_name": "Python 3",
   "language": "python",
   "name": "python3"
  },
  "language_info": {
   "codemirror_mode": {
    "name": "ipython",
    "version": 3
   },
   "file_extension": ".py",
   "mimetype": "text/x-python",
   "name": "python",
   "nbconvert_exporter": "python",
   "pygments_lexer": "ipython3",
   "version": "3.9.5"
  }
 },
 "nbformat": 4,
 "nbformat_minor": 5
}
