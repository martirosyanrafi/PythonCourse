{
 "cells": [
  {
   "cell_type": "markdown",
   "metadata": {},
   "source": [
    "### Open the file file1.txt\n",
    "### Բացեք file1.txt-ն"
   ]
  },
  {
   "cell_type": "code",
   "execution_count": 56,
   "metadata": {},
   "outputs": [],
   "source": [
    "f = open(\"data/file1.txt\")"
   ]
  },
  {
   "cell_type": "markdown",
   "metadata": {},
   "source": [
    "### Get the first 10 lines of the file file1.txt \n",
    "### Ստացեք file1.txt ֆայլի առաջին 10 տողերը"
   ]
  },
  {
   "cell_type": "code",
   "execution_count": 57,
   "metadata": {},
   "outputs": [
    {
     "name": "stdout",
     "output_type": "stream",
     "text": [
      "This is the 1st line of file1\n",
      "\n",
      "This is the 2nd line of file1\n",
      "\n",
      "This is the 3rd line of file1\n",
      "\n",
      "This is the 4th line of file1\n",
      "\n",
      "This is the 5th line of file1\n",
      "\n",
      "This is the 6th line of file1\n",
      "\n",
      "This is the 7th line of file1\n",
      "\n",
      "This is the 8th line of file1\n",
      "\n",
      "This is the 9th line of file1\n",
      "\n",
      "This is the 10th line of file1This is the 1st line of file2\n",
      "\n"
     ]
    }
   ],
   "source": [
    "f.seek(0)\n",
    "\n",
    "for i in range(10):\n",
    "    line = f.readline()\n",
    "    print(line)"
   ]
  },
  {
   "cell_type": "markdown",
   "metadata": {},
   "source": [
    "### Write a try ... except clause for opening the file\n",
    "### Օգտագործեք try ... except բլոկ ֆայլը բացելու համար"
   ]
  },
  {
   "cell_type": "code",
   "execution_count": 58,
   "metadata": {},
   "outputs": [
    {
     "name": "stdout",
     "output_type": "stream",
     "text": [
      "File not found or path is incorrect\n"
     ]
    }
   ],
   "source": [
    "try:\n",
    "    f = open(\"unknown.txt\")\n",
    "except IOError:\n",
    "    print(\"File not found or path is incorrect\")"
   ]
  },
  {
   "cell_type": "markdown",
   "metadata": {},
   "source": [
    "### Find the number of lines in the file. \n",
    "### Գտեք ֆայլի տողերի քանակը"
   ]
  },
  {
   "cell_type": "code",
   "execution_count": 59,
   "metadata": {},
   "outputs": [
    {
     "name": "stdout",
     "output_type": "stream",
     "text": [
      "18\n"
     ]
    }
   ],
   "source": [
    "f.seek(0)\n",
    "\n",
    "count = 0\n",
    "for line in f: count += 1\n",
    "print(count)"
   ]
  },
  {
   "cell_type": "markdown",
   "metadata": {},
   "source": [
    "### Create a list each entry of which will be a line from our file. Ignore the new line characters ('\\n').\n",
    "### Ստեղծեք list, որը յուրաքանչյուր տարր իրենից ներկայացնում է մեր ֆայլի մեկ տող, անտեսեք '\\n'-երը"
   ]
  },
  {
   "cell_type": "code",
   "execution_count": 60,
   "metadata": {},
   "outputs": [
    {
     "name": "stdout",
     "output_type": "stream",
     "text": [
      "['This is the 1st line of file1', 'This is the 2nd line of file1', 'This is the 3rd line of file1', 'This is the 4th line of file1', 'This is the 5th line of file1', 'This is the 6th line of file1', 'This is the 7th line of file1', 'This is the 8th line of file1', 'This is the 9th line of file1', 'This is the 10th line of file1This is the 1st line of file2', 'This is the 2nd line of file2', 'This is the 3rd line of file2', 'This is the 4th line of file2', 'This is the 5th line of file2This is the 1st line of file2', 'This is the 2nd line of file2', 'This is the 3rd line of file2', 'This is the 4th line of file2', 'This is the 5th line of file2']\n"
     ]
    }
   ],
   "source": [
    "f.seek(0)\n",
    "\n",
    "list = []\n",
    "for line in f:\n",
    "    list.append(line.replace('\\n', ''))\n",
    "print(list)"
   ]
  },
  {
   "cell_type": "markdown",
   "metadata": {},
   "source": [
    "### Open and read the file file2.txt\n",
    "### Բացեք և կարդացեք file2.txt ֆայլը"
   ]
  },
  {
   "cell_type": "code",
   "execution_count": 61,
   "metadata": {},
   "outputs": [
    {
     "data": {
      "text/plain": [
       "'This is the 1st line of file2\\nThis is the 2nd line of file2\\nThis is the 3rd line of file2\\nThis is the 4th line of file2\\nThis is the 5th line of file2'"
      ]
     },
     "execution_count": 61,
     "metadata": {},
     "output_type": "execute_result"
    }
   ],
   "source": [
    "f2 = open(\"data/file2.txt\")\n",
    "f2.read()"
   ]
  },
  {
   "cell_type": "markdown",
   "metadata": {},
   "source": [
    "### Read the file file2.txt line by line and write its contents into the new file file3.txt\n",
    "### Տող առ տող կարդացեք file2.txt ֆայլը ու իր պարունակությունը գրեք նոր file3.txt ֆայլում"
   ]
  },
  {
   "cell_type": "code",
   "execution_count": 62,
   "metadata": {},
   "outputs": [],
   "source": [
    "f2.seek(0)\n",
    "\n",
    "f3 = open(\"data/file3.txt\", mode='w')\n",
    "for line in f2:\n",
    "    f3.write(line)"
   ]
  },
  {
   "cell_type": "markdown",
   "metadata": {},
   "source": [
    "### Read the file file2.txt line by line and write its contents at the end of the file file1.txt\n",
    "### Տող առ տող կարդացեք file2.txt ֆայլը ու իր պարունակությունը կցեք  file1.txt ֆայլի վերջից"
   ]
  },
  {
   "cell_type": "code",
   "execution_count": 63,
   "metadata": {},
   "outputs": [],
   "source": [
    "f2.seek(0)\n",
    "\n",
    "f1 = open(\"data/file1.txt\", mode='a+')\n",
    "for line in f2:\n",
    "    f1.write(line)"
   ]
  },
  {
   "cell_type": "markdown",
   "metadata": {},
   "source": [
    "### * Write a Python program to read a random line from the file file1.txt.\n",
    "### Գրեք ծրագիր, որի արդյունքում կստանանք file1.txt ֆայլի մեկ պատահական տող  "
   ]
  },
  {
   "cell_type": "code",
   "execution_count": 64,
   "metadata": {},
   "outputs": [
    {
     "name": "stdout",
     "output_type": "stream",
     "text": [
      "This is the 9th line of file1\n"
     ]
    }
   ],
   "source": [
    "import random\n",
    "\n",
    "f.seek(0)\n",
    "\n",
    "lines = f.read().splitlines()\n",
    "line = random.choice(lines)\n",
    "print(line)"
   ]
  },
  {
   "cell_type": "code",
   "execution_count": 65,
   "metadata": {},
   "outputs": [],
   "source": [
    "f.close()\n",
    "f1.close()\n",
    "f2.close()\n",
    "f3.close()"
   ]
  }
 ],
 "metadata": {
  "kernelspec": {
   "display_name": "Python 3",
   "language": "python",
   "name": "python3"
  },
  "language_info": {
   "codemirror_mode": {
    "name": "ipython",
    "version": 3
   },
   "file_extension": ".py",
   "mimetype": "text/x-python",
   "name": "python",
   "nbconvert_exporter": "python",
   "pygments_lexer": "ipython3",
   "version": "3.9.5"
  }
 },
 "nbformat": 4,
 "nbformat_minor": 2
}
