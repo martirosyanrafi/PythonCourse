{
 "cells": [
  {
   "cell_type": "code",
   "execution_count": 3,
   "id": "59ee57af",
   "metadata": {},
   "outputs": [],
   "source": [
    "from __future__ import annotations\n",
    "from abc import ABC, abstractmethod"
   ]
  },
  {
   "cell_type": "markdown",
   "id": "efda011a",
   "metadata": {},
   "source": [
    "Problem 1"
   ]
  },
  {
   "cell_type": "code",
   "execution_count": 8,
   "id": "7d3c8200",
   "metadata": {},
   "outputs": [
    {
     "name": "stdout",
     "output_type": "stream",
     "text": [
      "Returns the dispatcher for the service\n",
      "Returns the restaurant for the service\n",
      "Returns the delivery guy for the service\n"
     ]
    }
   ],
   "source": [
    "class FoodDelivery(ABC):\n",
    "    \n",
    "    @abstractmethod\n",
    "    def get_dispatcher(self):\n",
    "        pass\n",
    "    \n",
    "    @abstractmethod\n",
    "    def get_restaurant(self):\n",
    "        pass\n",
    "    \n",
    "    @abstractmethod\n",
    "    def get_delivery_guy(self):\n",
    "        pass\n",
    "\n",
    "class FoodDelivery1(FoodDelivery):\n",
    "    \n",
    "    def get_dispatcher(self):\n",
    "        print(\"Returns the dispatcher for the service\")\n",
    "    \n",
    "    def get_restaurant(self):\n",
    "        print(\"Returns the restaurant for the service\")\n",
    "    \n",
    "    def get_delivery_guy(self):\n",
    "        print(\"Returns the delivery guy for the service\")\n",
    "        \n",
    "class FoodDeliveryService():\n",
    "    \n",
    "    def __init__(self, facade):\n",
    "        self.facade = facade\n",
    "        \n",
    "    def start(self):\n",
    "        self.facade.get_dispatcher()\n",
    "        self.facade.get_restaurant()\n",
    "        self.facade.get_delivery_guy()\n",
    "            \n",
    "service = FoodDeliveryService(FoodDelivery1())\n",
    "service.start()"
   ]
  },
  {
   "cell_type": "markdown",
   "id": "1c3c559d",
   "metadata": {},
   "source": [
    "Problem 2"
   ]
  },
  {
   "cell_type": "code",
   "execution_count": 18,
   "id": "1aff3390",
   "metadata": {},
   "outputs": [
    {
     "name": "stdout",
     "output_type": "stream",
     "text": [
      "Returns placeholder image\n",
      "Returns server image\n"
     ]
    }
   ],
   "source": [
    "class Image(ABC):\n",
    "    \n",
    "    @abstractmethod\n",
    "    def get(self):\n",
    "        pass\n",
    "    \n",
    "class ServerImage:\n",
    "    \n",
    "    def get(self):\n",
    "        print(\"Returns server image\")\n",
    "    \n",
    "class PlaceholderImage:\n",
    "    \n",
    "    def get(self):\n",
    "        print(\"Returns placeholder image\")\n",
    "        \n",
    "class ImageProxy:\n",
    "    \n",
    "    isLoaded = False\n",
    "\n",
    "    def get(self):\n",
    "        return ServerImage().get() if self.isLoaded else PlaceholderImage().get()\n",
    "    \n",
    "proxy = ImageProxy()\n",
    "proxy.get()\n",
    "\n",
    "proxy.isLoaded = True\n",
    "proxy.get()"
   ]
  },
  {
   "cell_type": "markdown",
   "id": "a591e1d5",
   "metadata": {},
   "source": [
    "Problem 3"
   ]
  },
  {
   "cell_type": "code",
   "execution_count": 47,
   "id": "34d3ff97",
   "metadata": {},
   "outputs": [
    {
     "name": "stdout",
     "output_type": "stream",
     "text": [
      "canvas 0 0\n"
     ]
    }
   ],
   "source": [
    "class TreeType:\n",
    "    \n",
    "    def __init__(self, name, color, texture):\n",
    "        self.name = name\n",
    "        self.color = color\n",
    "        self.texture = texture\n",
    "        \n",
    "    def draw(self, canvas, x, y):\n",
    "        print(canvas + \" \" + str(x) + \" \" + str(y))\n",
    "        \n",
    "class Tree:\n",
    "    \n",
    "    def __init__(self, x, y, type):\n",
    "        self.x = x\n",
    "        self.y = y\n",
    "        self.type = type\n",
    "        \n",
    "    def draw(self, canvas):\n",
    "        self.type.draw(canvas, self.x, self.y)\n",
    "        \n",
    "class TreeFactory:\n",
    "    \n",
    "    tree_types = []\n",
    "    \n",
    "    @classmethod\n",
    "    def get_tree_type(cls, name, color, texture):\n",
    "        for tree_type in cls.tree_types:\n",
    "            if tree_type.name == name and tree_type.color == color and tree_type.texture == texture:\n",
    "                return tree_type\n",
    "            \n",
    "        new_type = TreeType(name, color, texture)\n",
    "        cls.tree_types.append(new_type)\n",
    "        return new_type\n",
    "\n",
    "class Forest:\n",
    "    \n",
    "    trees = []\n",
    "    \n",
    "    def plant_tree(self, x, y, name, color, texture):\n",
    "        self.trees.append(Tree(x, y, TreeFactory.get_tree_type(name, color, texture)))\n",
    "        \n",
    "    def draw(self, canvas):\n",
    "        for tree in self.trees:\n",
    "            tree.draw(canvas)\n",
    "            \n",
    "forest = Forest()\n",
    "forest.plant_tree(0, 0, \"tree\", \"red\", \"texture\")\n",
    "forest.draw(\"canvas\")"
   ]
  }
 ],
 "metadata": {
  "kernelspec": {
   "display_name": "Python 3",
   "language": "python",
   "name": "python3"
  },
  "language_info": {
   "codemirror_mode": {
    "name": "ipython",
    "version": 3
   },
   "file_extension": ".py",
   "mimetype": "text/x-python",
   "name": "python",
   "nbconvert_exporter": "python",
   "pygments_lexer": "ipython3",
   "version": "3.9.5"
  }
 },
 "nbformat": 4,
 "nbformat_minor": 5
}
