{
 "cells": [
  {
   "cell_type": "code",
   "execution_count": 1,
   "metadata": {},
   "outputs": [],
   "source": [
    "from abc import ABCMeta, abstractmethod\n",
    "import copy"
   ]
  },
  {
   "cell_type": "markdown",
   "metadata": {},
   "source": [
    "## Problem 1\n",
    "\n",
    "```\n",
    "Use prototype pattern and classes of your choice. create an abstract class Shape and concrete classes extending the Shape class: Circle, Square and Rectangle. Define a class ShapeCache which stores shape objects in a dictionary and returns their clones when requested.\n",
    "```"
   ]
  },
  {
   "cell_type": "code",
   "execution_count": 2,
   "metadata": {},
   "outputs": [
    {
     "name": "stdout",
     "output_type": "stream",
     "text": [
      "<__main__.Circle object at 0x1066a1760>\n",
      "<__main__.Square object at 0x1066a5d90>\n",
      "<__main__.Rectangle object at 0x106697190>\n"
     ]
    }
   ],
   "source": [
    "class Shape(metaclass = ABCMeta):\n",
    "\n",
    "    def clone(self):\n",
    "        return copy.copy(self)\n",
    "\n",
    "class Circle(Shape):\n",
    "    pass\n",
    "  \n",
    "class Square(Shape):\n",
    "    pass\n",
    "  \n",
    "class Rectangle(Shape):\n",
    "    pass\n",
    "  \n",
    "class ShapeCache:\n",
    "    \n",
    "    cache = {}\n",
    "  \n",
    "    @staticmethod\n",
    "    def get_shape(id):\n",
    "        shape = ShapeCache.cache.get(id, None)\n",
    "        return shape.clone()\n",
    "  \n",
    "    @staticmethod\n",
    "    def load():\n",
    "        circle = Circle()\n",
    "        circle.id = 1\n",
    "        ShapeCache.cache[circle.id] = circle\n",
    "  \n",
    "        square = Square()\n",
    "        square.id = 2 \n",
    "        ShapeCache.cache[square.id] = square\n",
    "  \n",
    "        rectangle = Rectangle()\n",
    "        rectangle.id = 3\n",
    "        ShapeCache.cache[rectangle.id] = rectangle\n",
    "\n",
    "ShapeCache.load()\n",
    "\n",
    "circle = ShapeCache.get_shape(1)\n",
    "print(circle)\n",
    "\n",
    "square = ShapeCache.get_shape(2)\n",
    "print(square)\n",
    "\n",
    "rectangle = ShapeCache.get_shape(3)\n",
    "print(rectangle)"
   ]
  },
  {
   "cell_type": "markdown",
   "metadata": {},
   "source": [
    "## Problem 2\n",
    "\n",
    "```\n",
    "Use adapter pattern and classes of your choice. Create a structure where you have 1-2 adaptees that have a method that returns some text in spanish. Have an adapter which will have a method that translates the text to english.\n",
    "```"
   ]
  },
  {
   "cell_type": "code",
   "execution_count": 3,
   "metadata": {},
   "outputs": [
    {
     "name": "stdout",
     "output_type": "stream",
     "text": [
      "Hola in English\n"
     ]
    }
   ],
   "source": [
    "class Target(metaclass=ABCMeta):\n",
    "    def __init__(self):\n",
    "        self._adaptee = Adaptee()\n",
    " \n",
    "    @abstractmethod\n",
    "    def request(self):\n",
    "        pass\n",
    " \n",
    " \n",
    "class Adapter(Target):\n",
    "    def request(self):\n",
    "        print(self._adaptee.specific_request() + \" in English\")\n",
    " \n",
    " \n",
    "class Adaptee:\n",
    "    def specific_request(self):\n",
    "        return \"Hola\"\n",
    " \n",
    " \n",
    "adapter = Adapter()\n",
    "adapter.request()"
   ]
  },
  {
   "cell_type": "markdown",
   "metadata": {},
   "source": [
    "## Problem 3\n",
    "\n",
    "```\n",
    "Use singleton pattern and classes of your choice. Create a structure where you have some resource that has states busy and free and 3 users that try to use the resource and change the state to busy while they are using it. The resource should be singleton. Implement following 2 different methods for singleton implementation that we have discussion. \n",
    "```"
   ]
  },
  {
   "cell_type": "code",
   "execution_count": 4,
   "metadata": {},
   "outputs": [
    {
     "name": "stdout",
     "output_type": "stream",
     "text": [
      "free\n",
      "busy\n"
     ]
    }
   ],
   "source": [
    "class Singleton:\n",
    "  \n",
    "    __shared_instance = 'initial_state'\n",
    "  \n",
    "    __state = 'busy'\n",
    "\n",
    "    @staticmethod\n",
    "    def getInstance():\n",
    "        if Singleton.__shared_instance == 'initial_state':\n",
    "            Singleton()\n",
    "        return Singleton.__shared_instance\n",
    "  \n",
    "    def __init__(self):\n",
    "        if Singleton.__shared_instance != 'initial_state':\n",
    "            raise Exception (\"This class is a singleton class !\")\n",
    "        else:\n",
    "            Singleton.__shared_instance = self\n",
    "            \n",
    "    def busy(self):\n",
    "        self.__state = 'busy'\n",
    "        \n",
    "    def free(self):\n",
    "        self.__state = 'free'\n",
    "        \n",
    "    def get_state(self):\n",
    "        return self.__state\n",
    "            \n",
    "obj = Singleton.getInstance()\n",
    "obj.free()\n",
    "print(obj.get_state())\n",
    "\n",
    "obj.busy()\n",
    "print(obj.get_state())"
   ]
  },
  {
   "cell_type": "code",
   "execution_count": null,
   "metadata": {},
   "outputs": [],
   "source": []
  }
 ],
 "metadata": {
  "kernelspec": {
   "display_name": "Python 3",
   "language": "python",
   "name": "python3"
  },
  "language_info": {
   "codemirror_mode": {
    "name": "ipython",
    "version": 3
   },
   "file_extension": ".py",
   "mimetype": "text/x-python",
   "name": "python",
   "nbconvert_exporter": "python",
   "pygments_lexer": "ipython3",
   "version": "3.9.5"
  }
 },
 "nbformat": 4,
 "nbformat_minor": 4
}
