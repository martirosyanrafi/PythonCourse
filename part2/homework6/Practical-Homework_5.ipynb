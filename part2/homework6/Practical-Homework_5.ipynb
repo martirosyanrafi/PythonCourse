{
 "cells": [
  {
   "cell_type": "code",
   "execution_count": 1,
   "id": "f62c4a24",
   "metadata": {},
   "outputs": [],
   "source": [
    "from abc import ABC, abstractmethod"
   ]
  },
  {
   "cell_type": "markdown",
   "id": "c7b1368b",
   "metadata": {},
   "source": [
    "Problem 1"
   ]
  },
  {
   "cell_type": "code",
   "execution_count": 2,
   "id": "e11b689d",
   "metadata": {},
   "outputs": [],
   "source": [
    "class Shape(ABC):\n",
    "    \n",
    "    @abstractmethod\n",
    "    def draw(self):\n",
    "        pass"
   ]
  },
  {
   "cell_type": "code",
   "execution_count": 3,
   "id": "69b7f004",
   "metadata": {},
   "outputs": [],
   "source": [
    "class Circle(Shape):\n",
    "\n",
    "    def draw(self):\n",
    "        print(\"draw Circle\")\n",
    "\n",
    "class Square(Shape):\n",
    "\n",
    "    def draw(self):\n",
    "        print(\"draw Square\")\n",
    "        \n",
    "class Triangle(Shape):\n",
    "\n",
    "    def draw(self):\n",
    "        print(\"draw Triangle\")"
   ]
  },
  {
   "cell_type": "code",
   "execution_count": 4,
   "id": "c49ef726",
   "metadata": {},
   "outputs": [],
   "source": [
    "class ShapeFactory:\n",
    "    \n",
    "    def get(self, name):\n",
    "        if name == \"circle\":\n",
    "            return Circle()\n",
    "        elif name == \"square\":\n",
    "            return Square()\n",
    "        elif name == \"triangle\":\n",
    "            return Triangle()"
   ]
  },
  {
   "cell_type": "code",
   "execution_count": 5,
   "id": "b73545fa",
   "metadata": {},
   "outputs": [],
   "source": [
    "class Client:\n",
    "    \n",
    "    def __init__(self, name):\n",
    "        self.shape = ShapeFactory().get(name)\n",
    "        \n",
    "    def draw(self):\n",
    "        self.shape.draw()"
   ]
  },
  {
   "cell_type": "code",
   "execution_count": 6,
   "id": "c845a7c6",
   "metadata": {},
   "outputs": [
    {
     "name": "stdout",
     "output_type": "stream",
     "text": [
      "draw Triangle\n"
     ]
    }
   ],
   "source": [
    "Client(\"triangle\").draw()"
   ]
  },
  {
   "cell_type": "markdown",
   "id": "5571d230",
   "metadata": {},
   "source": [
    "Problem 2"
   ]
  },
  {
   "cell_type": "code",
   "execution_count": 7,
   "id": "8c4dc386",
   "metadata": {},
   "outputs": [],
   "source": [
    "class Button:\n",
    "    pass\n",
    "\n",
    "class Checkbox:\n",
    "    pass"
   ]
  },
  {
   "cell_type": "code",
   "execution_count": 8,
   "id": "ba0f57a7",
   "metadata": {},
   "outputs": [],
   "source": [
    "class WinButton(Button):\n",
    "    pass\n",
    "\n",
    "class WinCheckbox(Checkbox):\n",
    "    pass"
   ]
  },
  {
   "cell_type": "code",
   "execution_count": 9,
   "id": "8536768f",
   "metadata": {},
   "outputs": [],
   "source": [
    "class MacButton(Button):\n",
    "    pass\n",
    "\n",
    "class MacCheckbox(Checkbox):\n",
    "    pass"
   ]
  },
  {
   "cell_type": "code",
   "execution_count": 10,
   "id": "074201c5",
   "metadata": {},
   "outputs": [],
   "source": [
    "class GUIFactory(ABC):\n",
    "    \n",
    "    @abstractmethod            \n",
    "    def createButton(self):\n",
    "        pass\n",
    "    \n",
    "    @abstractmethod\n",
    "    def createCheckbox(self):\n",
    "        pass"
   ]
  },
  {
   "cell_type": "code",
   "execution_count": 11,
   "id": "d0f61c3d",
   "metadata": {},
   "outputs": [],
   "source": [
    "class WinFactory(GUIFactory):\n",
    "    \n",
    "    def createButton(self):\n",
    "        return WinButton()\n",
    "    \n",
    "    def createCheckbox(self):\n",
    "        return WinCheckbox()"
   ]
  },
  {
   "cell_type": "code",
   "execution_count": 12,
   "id": "1d9079cf",
   "metadata": {},
   "outputs": [],
   "source": [
    "class MacFactory(GUIFactory):\n",
    "    \n",
    "    def createButton(self):\n",
    "        return MacButton()\n",
    "    \n",
    "    def createCheckbox(self):\n",
    "        return MacCheckbox()"
   ]
  },
  {
   "cell_type": "code",
   "execution_count": 13,
   "id": "c61cbda3",
   "metadata": {},
   "outputs": [
    {
     "data": {
      "text/plain": [
       "<__main__.WinCheckbox at 0x1090da760>"
      ]
     },
     "execution_count": 13,
     "metadata": {},
     "output_type": "execute_result"
    }
   ],
   "source": [
    "factory = WinFactory()\n",
    "factory.createButton()\n",
    "factory.createCheckbox()"
   ]
  },
  {
   "cell_type": "markdown",
   "id": "e5f8ff87",
   "metadata": {},
   "source": [
    "Problem 3"
   ]
  },
  {
   "cell_type": "code",
   "execution_count": 14,
   "id": "7207949a",
   "metadata": {},
   "outputs": [],
   "source": [
    "class BankAccount:\n",
    "    id = 0\n",
    "    balance = 0\n",
    "    rate = 0"
   ]
  },
  {
   "cell_type": "code",
   "execution_count": 15,
   "id": "b6ede7af",
   "metadata": {},
   "outputs": [],
   "source": [
    "class Builder(ABC):\n",
    "    \n",
    "    @abstractmethod\n",
    "    def create_id(self, id):\n",
    "        pass\n",
    "\n",
    "    @abstractmethod\n",
    "    def create_balance(self, balance):\n",
    "        pass\n",
    "\n",
    "    @abstractmethod\n",
    "    def create_rate(self, rate):\n",
    "        pass"
   ]
  },
  {
   "cell_type": "code",
   "execution_count": 16,
   "id": "17287a81",
   "metadata": {},
   "outputs": [],
   "source": [
    "class BankAccountBuilder(Builder):\n",
    "    \n",
    "    def __init__(self):\n",
    "        self.accout = BankAccount()\n",
    "        \n",
    "    def create_id(self, id):\n",
    "        self.accout.id = id\n",
    "\n",
    "    def create_balance(self, balance):\n",
    "        self.accout.balance = balance\n",
    "\n",
    "    def create_rate(self, rate):\n",
    "        self.accout.rate = rate"
   ]
  },
  {
   "cell_type": "code",
   "execution_count": 17,
   "id": "7d153b4f",
   "metadata": {},
   "outputs": [],
   "source": [
    "builder = BankAccountBuilder()\n",
    "builder.create_id(3)\n",
    "builder.create_balance(100)\n",
    "builder.create_rate(1)"
   ]
  },
  {
   "cell_type": "code",
   "execution_count": null,
   "id": "4586e8c2",
   "metadata": {},
   "outputs": [],
   "source": []
  }
 ],
 "metadata": {
  "kernelspec": {
   "display_name": "Python 3",
   "language": "python",
   "name": "python3"
  },
  "language_info": {
   "codemirror_mode": {
    "name": "ipython",
    "version": 3
   },
   "file_extension": ".py",
   "mimetype": "text/x-python",
   "name": "python",
   "nbconvert_exporter": "python",
   "pygments_lexer": "ipython3",
   "version": "3.9.5"
  }
 },
 "nbformat": 4,
 "nbformat_minor": 5
}
